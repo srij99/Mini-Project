{
 "cells": [
  {
   "cell_type": "code",
   "execution_count": 4,
   "id": "5ed47d44",
   "metadata": {},
   "outputs": [],
   "source": [
    "from textblob import TextBlob\n",
    "import nltk\n"
   ]
  },
  {
   "cell_type": "code",
   "execution_count": 5,
   "id": "cc583f3c",
   "metadata": {},
   "outputs": [],
   "source": [
    "news_summary=input(\"Enter the article:\")\n"
   ]
  },
  {
   "cell_type": "code",
   "execution_count": 6,
   "id": "5a36a4c2",
   "metadata": {},
   "outputs": [
    {
     "name": "stdout",
     "output_type": "stream",
     "text": [
      "\n",
      "FINAL ANALYSIS\n",
      "----------------------------------\n",
      "Polarity: 0.03333333333333333  Subjectivity: 0.5666666666666668\n",
      "Polarity: Neutral.\n",
      "Subjectivity: Fairly subjective.\n"
     ]
    }
   ],
   "source": [
    "def find_sentiment(news_story):\n",
    "    news = TextBlob(news_story)\n",
    "    sentiments = []\n",
    "    for sentence in news.sentences:\n",
    "        sentiment = sentence.sentiment\n",
    "        for metric in sentiment:\n",
    "            sentiments.append(metric)\n",
    "\n",
    "    # Every even index in the list corresponds to polarity and the rest relate to subjectivity.\n",
    "    # Using this, the polarity_data and subjectivity_data lists are filled accurately.\n",
    "    polarity_data = []\n",
    "    subjectivity_data = []\n",
    "    for i in range(len(sentiments)):\n",
    "        if i % 2 == 0:\n",
    "            polarity_data.append(sentiments[i])\n",
    "        else:\n",
    "            subjectivity_data.append(sentiments[i])\n",
    "\n",
    "    # The averages of both sentiment lists are calculated.\n",
    "    polarity_average = calculate_average(polarity_data)\n",
    "    subjectivity_average = calculate_average(subjectivity_data)\n",
    "\n",
    "    # Displays the sentiment that relates to the averages on the console.\n",
    "    print()\n",
    "    print(\"FINAL ANALYSIS\")\n",
    "    print(\"----------------------------------\")\n",
    "    print(\"Polarity:\",polarity_average,\" Subjectivity:\",subjectivity_average)\n",
    "    print(\"Polarity: \" + calculate_sentiment(polarity_average, \"polarity\"))\n",
    "    print(\"Subjectivity: \" + calculate_sentiment(subjectivity_average, \"subjectivity\"))\n",
    "\n",
    "\n",
    "# Helper Methods (for the find_sentiment method)\n",
    "# -------------------------------------------------------------\n",
    "\n",
    "# Method Purpose: Given a list with numeric values, calculates and returns the average of all.\n",
    "def calculate_average(list):\n",
    "    return sum(list) / len(list)\n",
    "\n",
    "\n",
    "# Method Purpose: Given an average polarity or subjectivity, uses intervals to calculate accurate sentiments.\n",
    "# Note: Polarity and Subjectivity in TextBlob fall in between -1 and 1, this method bases its intervals off of that.\n",
    "def calculate_sentiment(sentiment, type):\n",
    "    sentiment_category = \"\"\n",
    "    if type == \"polarity\":\n",
    "        if sentiment > 0.75:\n",
    "            sentiment_category = \"Extremely positive.\"\n",
    "        elif sentiment > 0.5:\n",
    "            sentiment_category = \"Significantly positive.\"\n",
    "        elif sentiment > 0.3:\n",
    "            sentiment_category = \"Fairly positive.\"\n",
    "        elif sentiment > 0.1:\n",
    "            sentiment_category = \"Slightly positive.\"\n",
    "        elif sentiment < -0.1:\n",
    "            sentiment_category = \"Slightly negative.\"\n",
    "        elif sentiment < -0.3:\n",
    "            sentiment_category = \"Fairly negative.\"\n",
    "        elif sentiment < -0.5:\n",
    "            sentiment_category = \"Significantly negative.\"\n",
    "        elif sentiment < -0.75:\n",
    "            sentiment_category = \"Extremely negative.\"\n",
    "        else:\n",
    "            sentiment_category = \"Neutral.\"\n",
    "        return sentiment_category\n",
    "    elif type == \"subjectivity\":\n",
    "        if sentiment > 0.75:\n",
    "            sentiment_category = \"Extremely subjective.\"\n",
    "        elif sentiment > 0.5:\n",
    "            sentiment_category = \"Fairly subjective.\"\n",
    "        elif sentiment > 0.3:\n",
    "            sentiment_category = \"Fairly objective.\"\n",
    "        elif sentiment > 0.1:\n",
    "            sentiment_category = \"Extremely objective.\"\n",
    "        return sentiment_category\n",
    "    else:\n",
    "        print(\"Invalid Input.\")\n",
    "\n",
    "find_sentiment(news_summary)"
   ]
  },
  {
   "cell_type": "code",
   "execution_count": null,
   "id": "395152c2",
   "metadata": {},
   "outputs": [],
   "source": []
  }
 ],
 "metadata": {
  "kernelspec": {
   "display_name": "Python 3",
   "language": "python",
   "name": "python3"
  },
  "language_info": {
   "codemirror_mode": {
    "name": "ipython",
    "version": 3
   },
   "file_extension": ".py",
   "mimetype": "text/x-python",
   "name": "python",
   "nbconvert_exporter": "python",
   "pygments_lexer": "ipython3",
   "version": "3.8.5"
  }
 },
 "nbformat": 4,
 "nbformat_minor": 5
}
